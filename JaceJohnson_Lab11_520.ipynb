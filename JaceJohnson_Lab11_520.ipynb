{
 "cells": [
  {
   "cell_type": "code",
   "execution_count": null,
   "id": "03508081",
   "metadata": {},
   "outputs": [],
   "source": [
    "#Jace Johnson\n",
    "#Section 520\n",
    "#Lab 11\n",
    "#11/10/2022"
   ]
  },
  {
   "cell_type": "code",
   "execution_count": 1,
   "id": "43dc848e",
   "metadata": {},
   "outputs": [
    {
     "name": "stdout",
     "output_type": "stream",
     "text": [
      "{'Lemons': 4, 'Eggs': 12, 'Toothpaste': 1}\n"
     ]
    }
   ],
   "source": [
    "#Problem 1 Create a dictionary of a grocery list\n",
    "List = dict()\n",
    "List['Lemons'] = 4\n",
    "List['Eggs'] = 12\n",
    "List['Toothpaste'] = 1\n",
    "print(List)\n"
   ]
  },
  {
   "cell_type": "code",
   "execution_count": 15,
   "id": "b828df9c",
   "metadata": {},
   "outputs": [
    {
     "name": "stdout",
     "output_type": "stream",
     "text": [
      "Enter a username:beast\n",
      "Enter a password:fatrat\n",
      "Access Granted\n"
     ]
    }
   ],
   "source": [
    "#Problem 2 Create a log in program\n",
    "x = input('Enter a username:')\n",
    "y = input('Enter a password:')\n",
    "List = dict()\n",
    "List['x'] = 'beast'\n",
    "List['y'] = 'fatrat'\n",
    "if x == List['x'] and y == List['y']:\n",
    "    print('Access Granted')\n",
    "else:\n",
    "    print('Access Denied!')\n",
    "\n"
   ]
  },
  {
   "cell_type": "code",
   "execution_count": 25,
   "id": "30a3cc0f",
   "metadata": {},
   "outputs": [
    {
     "name": "stdout",
     "output_type": "stream",
     "text": [
      "Enter your name:jace\n",
      "How old are you? 19\n",
      "When's your birthday?may 9\n",
      "What's your job?student\n",
      "{'jace': {'age': '19', 'birthday': 'may 9', 'job': 'student'}}\n",
      "Enter your name:bob\n",
      "How old are you? 2\n",
      "When's your birthday?may 10\n",
      "What's your job?student\n",
      "{'bob': {'age': '2', 'birthday': 'may 10', 'job': 'student'}}\n",
      "Enter your name:jess\n",
      "How old are you? 3\n",
      "When's your birthday?may 11\n",
      "What's your job?student\n",
      "{'jess': {'age': '3', 'birthday': 'may 11', 'job': 'student'}}\n"
     ]
    }
   ],
   "source": [
    "#Problem 3 Create a function that ask the user information about themselves\n",
    "\n",
    "def info():\n",
    "    x = input('Enter your name:')\n",
    "    y = input('How old are you? ')\n",
    "    z = input(\"When's your birthday? \")\n",
    "    c = input(\"What's your job? \")\n",
    "    information = {}\n",
    "    information[x] = {}\n",
    "    information[x]['age'] = y\n",
    "    information[x]['birthday'] = z\n",
    "    information[x]['job'] = c\n",
    "    print(information)\n",
    "\n",
    "info()\n",
    "info()\n",
    "info()"
   ]
  },
  {
   "cell_type": "code",
   "execution_count": 31,
   "id": "47f77898",
   "metadata": {},
   "outputs": [
    {
     "name": "stdout",
     "output_type": "stream",
     "text": [
      "Enter your name:jace\n",
      "How old are you? 19\n",
      "When's your birthday? may\n",
      "What's your job? student\n",
      "{'jace': {'age': '19', 'birthday': 'may', 'job': 'student'}}\n",
      "{'age': '19', 'birthday': 'may', 'job': 'student'}\n",
      "Enter your name:bob\n",
      "How old are you? 2\n",
      "When's your birthday? may\n",
      "What's your job? student\n",
      "{'jace': {'age': '19', 'birthday': 'may', 'job': 'student'}, 'bob': {'age': '2', 'birthday': 'may', 'job': 'student'}}\n",
      "{'age': '2', 'birthday': 'may', 'job': 'student'}\n",
      "Enter your name:jess\n",
      "How old are you? 3\n",
      "When's your birthday? may\n",
      "What's your job? student\n",
      "{'jace': {'age': '19', 'birthday': 'may', 'job': 'student'}, 'bob': {'age': '2', 'birthday': 'may', 'job': 'student'}, 'jess': {'age': '3', 'birthday': 'may', 'job': 'student'}}\n",
      "{'age': '3', 'birthday': 'may', 'job': 'student'}\n"
     ]
    }
   ],
   "source": [
    "#Problem 4 Print all three names\n",
    "def info():\n",
    "    x = input('Enter your name:')\n",
    "    y = input('How old are you? ')\n",
    "    z = input(\"When's your birthday? \")\n",
    "    c = input(\"What's your job? \")\n",
    "    information[x] = {}\n",
    "    information[x]['age'] = y\n",
    "    information[x]['birthday'] = z\n",
    "    information[x]['job'] = c\n",
    "    print(information)\n",
    "    print(information[x])\n",
    "information = {}\n",
    "info()\n",
    "info()\n",
    "info()"
   ]
  },
  {
   "cell_type": "code",
   "execution_count": null,
   "id": "94a6a695",
   "metadata": {},
   "outputs": [],
   "source": []
  }
 ],
 "metadata": {
  "kernelspec": {
   "display_name": "Python 3 (ipykernel)",
   "language": "python",
   "name": "python3"
  },
  "language_info": {
   "codemirror_mode": {
    "name": "ipython",
    "version": 3
   },
   "file_extension": ".py",
   "mimetype": "text/x-python",
   "name": "python",
   "nbconvert_exporter": "python",
   "pygments_lexer": "ipython3",
   "version": "3.9.7"
  }
 },
 "nbformat": 4,
 "nbformat_minor": 5
}
