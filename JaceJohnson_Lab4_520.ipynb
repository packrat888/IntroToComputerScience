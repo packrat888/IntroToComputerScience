{
 "cells": [
  {
   "cell_type": "code",
   "execution_count": null,
   "id": "b23c879d",
   "metadata": {},
   "outputs": [],
   "source": [
    "#Jace Johnson\n",
    "#Lab 520\n",
    "#Lab 4\n",
    "#09/22/2022"
   ]
  },
  {
   "cell_type": "code",
   "execution_count": 3,
   "id": "210df27d",
   "metadata": {},
   "outputs": [
    {
     "name": "stdout",
     "output_type": "stream",
     "text": [
      "True\n"
     ]
    }
   ],
   "source": [
    "#Problem 1 Is 10 greater than 3?\n",
    "print(10 > 3)\n"
   ]
  },
  {
   "cell_type": "code",
   "execution_count": 30,
   "id": "f428ea5e",
   "metadata": {},
   "outputs": [
    {
     "name": "stdout",
     "output_type": "stream",
     "text": [
      "True\n"
     ]
    }
   ],
   "source": [
    "#Problem 2 Assign a variable to number and see if it's <=15\n",
    "x = 12\n",
    "print(x <= 15)"
   ]
  },
  {
   "cell_type": "code",
   "execution_count": 21,
   "id": "0eef0a46",
   "metadata": {},
   "outputs": [
    {
     "name": "stdout",
     "output_type": "stream",
     "text": [
      "Input a number here:8\n",
      "True\n"
     ]
    }
   ],
   "source": [
    "#Problem 3 Input number is it equal to 8\n",
    "x = int(input('Input a number here:'))\n",
    "print(x == 8)"
   ]
  },
  {
   "cell_type": "code",
   "execution_count": 22,
   "id": "f373c4b0",
   "metadata": {},
   "outputs": [
    {
     "name": "stdout",
     "output_type": "stream",
     "text": [
      "Yes 7 is greater than 2.8\n"
     ]
    }
   ],
   "source": [
    "#Problem 4 Is 7 greater than 2.8 if so print yes 7 is greater than 2.8\n",
    "x = 7\n",
    "if x > 2.8:\n",
    "    print('Yes 7 is greater than 2.8')"
   ]
  },
  {
   "cell_type": "code",
   "execution_count": 24,
   "id": "dc480565",
   "metadata": {},
   "outputs": [
    {
     "name": "stdout",
     "output_type": "stream",
     "text": [
      "Input a number:50\n",
      "that is a small number\n"
     ]
    }
   ],
   "source": [
    "#Problem 5 If the input is greater than 50 print that is a big number else print that is a small number\n",
    "x = int(input('Input a number:'))\n",
    "if x > 50:\n",
    "    print('that is a big number')\n",
    "else:\n",
    "    print('that is a small number')"
   ]
  },
  {
   "cell_type": "code",
   "execution_count": 28,
   "id": "01ce271a",
   "metadata": {},
   "outputs": [
    {
     "name": "stdout",
     "output_type": "stream",
     "text": [
      "Input a number:7\n",
      "you have given a specific number\n"
     ]
    }
   ],
   "source": [
    "#Problem 6 If 5 is between 5 and 10 print thats is a specific number otherwise do nothing\n",
    "x = int(input('Input a number:'))\n",
    "if (5 < x and x < 10):\n",
    "    print('you have given a specific number')"
   ]
  }
 ],
 "metadata": {
  "kernelspec": {
   "display_name": "Python 3 (ipykernel)",
   "language": "python",
   "name": "python3"
  },
  "language_info": {
   "codemirror_mode": {
    "name": "ipython",
    "version": 3
   },
   "file_extension": ".py",
   "mimetype": "text/x-python",
   "name": "python",
   "nbconvert_exporter": "python",
   "pygments_lexer": "ipython3",
   "version": "3.9.7"
  }
 },
 "nbformat": 4,
 "nbformat_minor": 5
}
