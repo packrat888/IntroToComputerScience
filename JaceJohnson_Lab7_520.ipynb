{
 "cells": [
  {
   "cell_type": "code",
   "execution_count": null,
   "id": "2664987f",
   "metadata": {},
   "outputs": [],
   "source": [
    "#Jace Johnson\n",
    "#Section 520\n",
    "#Lab 7\n",
    "#10/13/2022"
   ]
  },
  {
   "cell_type": "code",
   "execution_count": 25,
   "id": "d81e2bbd",
   "metadata": {},
   "outputs": [
    {
     "name": "stdout",
     "output_type": "stream",
     "text": [
      "Jace Johnson 0\n",
      "Jace Johnson 1\n",
      "Jace Johnson 2\n",
      "Jace Johnson 3\n",
      "Jace Johnson 4\n",
      "Jace Johnson 5\n",
      "Jace Johnson 6\n",
      "Jace Johnson 7\n",
      "Jace Johnson 8\n",
      "Jace Johnson 9\n",
      "Jace Johnson 10\n",
      "Jace Johnson 11\n",
      "Jace Johnson 12\n",
      "Jace Johnson 13\n",
      "Jace Johnson 14\n",
      "Jace Johnson 15\n",
      "Jace Johnson 16\n",
      "Jace Johnson 17\n",
      "Jace Johnson 18\n",
      "Jace Johnson 19\n",
      "Jace Johnson 20\n",
      "Jace Johnson 21\n",
      "Jace Johnson 22\n",
      "Jace Johnson 23\n",
      "Jace Johnson 24\n",
      "Jace Johnson 25\n",
      "Jace Johnson 26\n",
      "Jace Johnson 27\n",
      "Jace Johnson 28\n",
      "Jace Johnson 29\n",
      "Jace Johnson 30\n",
      "Jace Johnson 31\n",
      "Jace Johnson 32\n",
      "Jace Johnson 33\n",
      "Jace Johnson 34\n",
      "Jace Johnson 35\n",
      "Jace Johnson 36\n",
      "Jace Johnson 37\n",
      "Jace Johnson 38\n",
      "Jace Johnson 39\n",
      "Jace Johnson 40\n",
      "Jace Johnson 41\n",
      "Jace Johnson 42\n",
      "Jace Johnson 43\n",
      "Jace Johnson 44\n",
      "Jace Johnson 45\n",
      "Jace Johnson 46\n",
      "Jace Johnson 47\n",
      "Jace Johnson 48\n",
      "Jace Johnson 49\n",
      "Jace Johnson 50\n",
      "Jace Johnson 51\n",
      "Jace Johnson 52\n",
      "Jace Johnson 53\n",
      "Jace Johnson 54\n",
      "Jace Johnson 55\n",
      "Jace Johnson 56\n",
      "Jace Johnson 57\n",
      "Jace Johnson 58\n",
      "Jace Johnson 59\n",
      "Jace Johnson 60\n",
      "Jace Johnson 61\n",
      "Jace Johnson 62\n",
      "Jace Johnson 63\n",
      "Jace Johnson 64\n",
      "Jace Johnson 65\n",
      "Jace Johnson 66\n",
      "Jace Johnson 67\n",
      "Jace Johnson 68\n",
      "Jace Johnson 69\n",
      "Jace Johnson 70\n",
      "Jace Johnson 71\n",
      "Jace Johnson 72\n",
      "Jace Johnson 73\n",
      "Jace Johnson 74\n",
      "Jace Johnson 75\n",
      "Jace Johnson 76\n",
      "Jace Johnson 77\n",
      "Jace Johnson 78\n",
      "Jace Johnson 79\n",
      "Jace Johnson 80\n",
      "Jace Johnson 81\n",
      "Jace Johnson 82\n",
      "Jace Johnson 83\n",
      "Jace Johnson 84\n",
      "Jace Johnson 85\n",
      "Jace Johnson 86\n",
      "Jace Johnson 87\n",
      "Jace Johnson 88\n",
      "Jace Johnson 89\n",
      "Jace Johnson 90\n",
      "Jace Johnson 91\n",
      "Jace Johnson 92\n",
      "Jace Johnson 93\n",
      "Jace Johnson 94\n",
      "Jace Johnson 95\n",
      "Jace Johnson 96\n",
      "Jace Johnson 97\n",
      "Jace Johnson 98\n",
      "Jace Johnson 99\n"
     ]
    }
   ],
   "source": [
    "#Problem 1 Write a program that prints a phrase a 100 times\n",
    "for i in range(100):\n",
    "    print(\"Jace Johnson\", i)"
   ]
  },
  {
   "cell_type": "code",
   "execution_count": 15,
   "id": "33394bab",
   "metadata": {},
   "outputs": [
    {
     "name": "stdout",
     "output_type": "stream",
     "text": [
      "Enter your name:Jace\n",
      "Enter a number:10\n",
      "Jace\n",
      "Jace\n",
      "Jace\n",
      "Jace\n",
      "Jace\n",
      "Jace\n",
      "Jace\n",
      "Jace\n",
      "Jace\n",
      "Jace\n"
     ]
    }
   ],
   "source": [
    "#Problem 2 Write a program that prints a name the number of times that's entered\n",
    "y = input('Enter your name:')\n",
    "x = int(input('Enter a number:'))\n",
    "for v in range(x):\n",
    "    print(y)"
   ]
  },
  {
   "cell_type": "code",
   "execution_count": 19,
   "id": "5c24af06",
   "metadata": {},
   "outputs": [
    {
     "name": "stdout",
     "output_type": "stream",
     "text": [
      "This many numbers are greater than 10:  4\n"
     ]
    }
   ],
   "source": [
    "#Problem 3 Write a program that finds how many numbers are greater than 10\n",
    "x = 0\n",
    "for i in [1, 20, 6, 75, 10, 15, 7, -10, 9, 18]:\n",
    "    if i > 10:\n",
    "        x = x + 1\n",
    "print(\"This many numbers are greater than 10: \", x)\n",
    "    \n",
    "\n"
   ]
  },
  {
   "cell_type": "code",
   "execution_count": 26,
   "id": "a9cf24fc",
   "metadata": {},
   "outputs": [
    {
     "name": "stdout",
     "output_type": "stream",
     "text": [
      "Enter a number:2\n",
      "Exponent:10\n",
      "2\n",
      "4\n",
      "8\n",
      "16\n",
      "32\n",
      "64\n",
      "128\n",
      "256\n",
      "512\n",
      "1024\n"
     ]
    }
   ],
   "source": [
    "#Problem 4 Write a program that finds the number to the power of the second number by repeated multiplication.\n",
    "x = int(input('Enter a number:'))\n",
    "y = int(input('Exponent:'))\n",
    "ans = 0\n",
    "z = 1\n",
    "for i in range(y):\n",
    "    z = z * x\n",
    "    print(z)\n",
    "    ans = ans + 1"
   ]
  },
  {
   "cell_type": "code",
   "execution_count": null,
   "id": "12c65416",
   "metadata": {},
   "outputs": [],
   "source": []
  }
 ],
 "metadata": {
  "kernelspec": {
   "display_name": "Python 3 (ipykernel)",
   "language": "python",
   "name": "python3"
  },
  "language_info": {
   "codemirror_mode": {
    "name": "ipython",
    "version": 3
   },
   "file_extension": ".py",
   "mimetype": "text/x-python",
   "name": "python",
   "nbconvert_exporter": "python",
   "pygments_lexer": "ipython3",
   "version": "3.9.7"
  }
 },
 "nbformat": 4,
 "nbformat_minor": 5
}
