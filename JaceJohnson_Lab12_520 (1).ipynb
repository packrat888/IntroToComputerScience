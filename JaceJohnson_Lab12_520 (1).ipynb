{
 "cells": [
  {
   "cell_type": "code",
   "execution_count": null,
   "id": "73f7a818",
   "metadata": {},
   "outputs": [],
   "source": [
    "#Jace Johnson\n",
    "#Lab 520\n",
    "#Lab 12\n",
    "#Lab 5\n",
    "#11/17/2022"
   ]
  },
  {
   "cell_type": "code",
   "execution_count": 7,
   "id": "b3a1d8cf",
   "metadata": {},
   "outputs": [
    {
     "name": "stdout",
     "output_type": "stream",
     "text": [
      "Input a color here:red\n",
      "Your color is red!\n"
     ]
    }
   ],
   "source": [
    "#Problem 1 Write a color identification program\n",
    "x = input('Input a color here:')\n",
    "if x == 'red':\n",
    "    print('Your color is red!')\n",
    "elif x == 'blue':\n",
    "    print('Your color is blue!')\n",
    "else :\n",
    "    print('Your color is not red nor blue!')"
   ]
  },
  {
   "cell_type": "code",
   "execution_count": 23,
   "id": "1e489d24",
   "metadata": {},
   "outputs": [
    {
     "name": "stdout",
     "output_type": "stream",
     "text": [
      "Input your grade here:101\n",
      "invalid input\n"
     ]
    }
   ],
   "source": [
    "#Problem 2 Create a grading program\n",
    "x = int(input('Input your grade here:'))\n",
    "if x > 89 and x < 101:\n",
    "    print('A')\n",
    "elif x > 79 and x < 90:\n",
    "    print('B')\n",
    "elif x > 69 and x < 80:\n",
    "    print('C')\n",
    "elif x > 59 and x < 70:\n",
    "    print('D')\n",
    "elif x < 60 and x > -1:\n",
    "    print('F')\n",
    "else:\n",
    "    print(\"invalid input\")\n",
    "    "
   ]
  },
  {
   "cell_type": "code",
   "execution_count": 24,
   "id": "164336d8",
   "metadata": {},
   "outputs": [
    {
     "name": "stdout",
     "output_type": "stream",
     "text": [
      "Enter username and password\n",
      "Enter username here:adam\n",
      "Enter password here:mountain\n",
      "Access Granted\n"
     ]
    }
   ],
   "source": [
    "#Problem 3 Write a log-in program\n",
    "print(\"Enter username and password\")\n",
    "x = input('Enter username here:')\n",
    "y = input('Enter password here:')\n",
    "if x == 'adam' and y == 'mountain':\n",
    "    print('Access Granted')\n",
    "elif x == 'Teach' and y == 'PassWord1':\n",
    "    print('Access Granted')\n",
    "else :\n",
    "    print('Password is incorrect or the username is not recongnized')"
   ]
  },
  {
   "cell_type": "code",
   "execution_count": 1,
   "id": "d43ecc85",
   "metadata": {},
   "outputs": [
    {
     "name": "stdout",
     "output_type": "stream",
     "text": [
      "Input X here:7\n",
      "Input Y here:8\n",
      "Enter \"sub\" to subtract X and Y\n",
      "Enter \"mul\" to multiply X and Y\n",
      "Enter \"div\" to divide X and Y\n",
      "Enter \"mod\" for remainder of X and Y\n",
      "Input operation here:sub\n",
      "x subtracted from y: -1\n"
     ]
    }
   ],
   "source": [
    "#Problem 4 Create a Calculator\n",
    "x = int(input(\"Input X here:\"))\n",
    "y = int(input(\"Input Y here:\"))\n",
    "print('Enter \"sub\" to subtract X and Y\\n\\\n",
    "Enter \"mul\" to multiply X and Y\\n\\\n",
    "Enter \"div\" to divide X and Y\\n\\\n",
    "Enter \"mod\" for remainder of X and Y')\n",
    "op = input(\"Input operation here:\")\n",
    "if op == \"sub\":\n",
    "    print(\"x subtracted from y:\", x-y)\n",
    "elif op == \"mul\":\n",
    "    print(\"x multiplied by y:\", x*y)\n",
    "elif op == \"div\":\n",
    "    print(\"x divided by y:\", x/y)\n",
    "elif op == \"mod\":\n",
    "    print(\"Remainder of x and y:\", x%y)\n",
    "else:\n",
    "    print('Wrong Input')\n",
    "        "
   ]
  },
  {
   "cell_type": "code",
   "execution_count": null,
   "id": "a658dee2",
   "metadata": {},
   "outputs": [],
   "source": []
  }
 ],
 "metadata": {
  "kernelspec": {
   "display_name": "Python 3 (ipykernel)",
   "language": "python",
   "name": "python3"
  },
  "language_info": {
   "codemirror_mode": {
    "name": "ipython",
    "version": 3
   },
   "file_extension": ".py",
   "mimetype": "text/x-python",
   "name": "python",
   "nbconvert_exporter": "python",
   "pygments_lexer": "ipython3",
   "version": "3.9.7"
  }
 },
 "nbformat": 4,
 "nbformat_minor": 5
}
