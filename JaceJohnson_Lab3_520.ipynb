{
 "cells": [
  {
   "cell_type": "code",
   "execution_count": null,
   "id": "5a24cee1",
   "metadata": {},
   "outputs": [],
   "source": [
    "#Jace Johnson\n",
    "#Lab 520\n",
    "#Lab 3\n",
    "#09/15/2022"
   ]
  },
  {
   "cell_type": "code",
   "execution_count": null,
   "id": "4e00103e",
   "metadata": {},
   "outputs": [],
   "source": [
    "#Problem 1 What \"type\" is each of the following\n",
    "#27: Integer because it's a whole number\n",
    "#Hello: String because of the single quote.\n",
    "#27.0: Floating Point because it has a decimal point.\n",
    "#x = 15.8:Floating point because its a decimal point.\n"
   ]
  },
  {
   "cell_type": "code",
   "execution_count": 27,
   "id": "4c1a8a92",
   "metadata": {},
   "outputs": [
    {
     "name": "stdout",
     "output_type": "stream",
     "text": [
      "Enter your name:jace\n",
      "Your name is: jace Your age is: 19\n"
     ]
    }
   ],
   "source": [
    "#Problem 2 Enter name and print age\n",
    "name = input('Enter your name:')\n",
    "age = 19\n",
    "yourage = str(age)\n",
    "print('Your name is: '+name+' Your age is: '+yourage)"
   ]
  },
  {
   "cell_type": "code",
   "execution_count": 30,
   "id": "b97c837f",
   "metadata": {},
   "outputs": [
    {
     "name": "stdout",
     "output_type": "stream",
     "text": [
      "Enter radius here:7\n",
      "Volume:65.33333333333333\n"
     ]
    }
   ],
   "source": [
    "#Problem 3 enter radius and output volume\n",
    "r = input('Enter radius here:')\n",
    "capitalR = float(r);\n",
    "V = 4/3*capitalR**2\n",
    "print('Volume:'+ str(V))"
   ]
  },
  {
   "cell_type": "code",
   "execution_count": 35,
   "id": "9434c527",
   "metadata": {},
   "outputs": [
    {
     "name": "stdout",
     "output_type": "stream",
     "text": [
      "Enter Kelvin:300\n",
      "Celsius:26.850000000000023 Farenheit:80.33000000000004\n"
     ]
    }
   ],
   "source": [
    "#Problem 4 Converter from Kelvin to Celsius\n",
    "K = input('Enter Kelvin:')\n",
    "Kelvin = float(K)\n",
    "Celsius = float(Kelvin-273.15)\n",
    "Farenheit = float(Celsius*(9/5)+32)\n",
    "print('Celsius:'+str(Celsius)+' Farenheit:'+str(Farenheit))"
   ]
  },
  {
   "cell_type": "code",
   "execution_count": null,
   "id": "a6ee044d",
   "metadata": {},
   "outputs": [],
   "source": []
  }
 ],
 "metadata": {
  "kernelspec": {
   "display_name": "Python 3 (ipykernel)",
   "language": "python",
   "name": "python3"
  },
  "language_info": {
   "codemirror_mode": {
    "name": "ipython",
    "version": 3
   },
   "file_extension": ".py",
   "mimetype": "text/x-python",
   "name": "python",
   "nbconvert_exporter": "python",
   "pygments_lexer": "ipython3",
   "version": "3.9.7"
  }
 },
 "nbformat": 4,
 "nbformat_minor": 5
}
