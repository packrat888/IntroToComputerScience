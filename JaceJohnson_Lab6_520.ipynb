{
 "cells": [
  {
   "cell_type": "code",
   "execution_count": null,
   "id": "46033ebe",
   "metadata": {},
   "outputs": [],
   "source": [
    "#Jace Johnson\n",
    "#Section 520\n",
    "#Lab 6\n",
    "#10/06/2022"
   ]
  },
  {
   "cell_type": "code",
   "execution_count": 9,
   "id": "d4810ba4",
   "metadata": {},
   "outputs": [
    {
     "name": "stdout",
     "output_type": "stream",
     "text": [
      "Enter your name:jace\n",
      "Enter a number:6\n",
      "jace\n",
      "jace\n",
      "jace\n",
      "jace\n",
      "jace\n",
      "jace\n"
     ]
    }
   ],
   "source": [
    "#Problem 1 Program that makes the user enter their name then prints it the number of times they entered\n",
    "y = input('Enter your name:')\n",
    "x = int(input('Enter a number:'))\n",
    "z = 0\n",
    "while z < x:\n",
    "    print(y)\n",
    "    z = z + 1\n",
    "    \n",
    "    \n",
    "  \n",
    "    \n",
    "   \n",
    "        \n",
    "\n",
    "\n"
   ]
  },
  {
   "cell_type": "code",
   "execution_count": 25,
   "id": "5cda2790",
   "metadata": {},
   "outputs": [
    {
     "name": "stdout",
     "output_type": "stream",
     "text": [
      "Whats my favorite color: red\n",
      "guess again\n",
      "Whats my favorite color: blue\n",
      "you guessed it\n"
     ]
    }
   ],
   "source": [
    "#Problem 2 Make the user guess my favorite color\n",
    "x = 'blue'\n",
    "while True:\n",
    "    y = input('Whats my favorite color: ')\n",
    "    if (y == x):\n",
    "        print(\"you guessed it\")\n",
    "        break\n",
    "    else :\n",
    "        print('guess again')\n",
    "    \n",
    "    \n",
    "        \n",
    "   "
   ]
  },
  {
   "cell_type": "code",
   "execution_count": 24,
   "id": "70f895c6",
   "metadata": {},
   "outputs": [
    {
     "name": "stdout",
     "output_type": "stream",
     "text": [
      "Enter a number:8\n",
      "Enter a number:9\n",
      "9\n",
      "18\n",
      "27\n",
      "36\n",
      "45\n",
      "54\n",
      "63\n",
      "72\n"
     ]
    }
   ],
   "source": [
    "#Problem 3 Program that multiplies two numbers by repeated addition\n",
    "x = int(input('Enter a number:'))\n",
    "y = int(input('Enter a number:'))\n",
    "ans = 0\n",
    "z = 0\n",
    "while z < x:\n",
    "    ans = ans + y\n",
    "    print(ans)\n",
    "    z = z + 1\n"
   ]
  },
  {
   "cell_type": "code",
   "execution_count": null,
   "id": "395e7531",
   "metadata": {},
   "outputs": [
    {
     "name": "stdout",
     "output_type": "stream",
     "text": [
      "Input X here:7\n",
      "Input Y here:7\n",
      "Enter \"sub\" to subtract X and Y\n",
      "Enter \"mul\" to multiply X and Y\n",
      "Enter \"div\" to divide X and Y\n",
      "Enter \"mod\" for remainder of X and Y\n",
      "Enter \"stop\" to stop the program\n",
      "Input operation here:mul\n",
      "x multiplied by y: 49\n",
      "Enter \"sub\" to subtract X and Y\n",
      "Enter \"mul\" to multiply X and Y\n",
      "Enter \"div\" to divide X and Y\n",
      "Enter \"mod\" for remainder of X and Y\n",
      "Enter \"stop\" to stop the program\n",
      "Input operation here:sooso\n",
      "Wrong Input\n",
      "Enter \"sub\" to subtract X and Y\n",
      "Enter \"mul\" to multiply X and Y\n",
      "Enter \"div\" to divide X and Y\n",
      "Enter \"mod\" for remainder of X and Y\n",
      "Enter \"stop\" to stop the program\n"
     ]
    }
   ],
   "source": [
    "#Problem 4 Make the calculator run indefinitely\n",
    "x = int(input(\"Input X here:\"))\n",
    "y = int(input(\"Input Y here:\"))\n",
    "while True:\n",
    "    print('Enter \"sub\" to subtract X and Y\\n\\\n",
    "Enter \"mul\" to multiply X and Y\\n\\\n",
    "Enter \"div\" to divide X and Y\\n\\\n",
    "Enter \"mod\" for remainder of X and Y\\n\\\n",
    "Enter \"stop\" to stop the program')\n",
    "    op = input(\"Input operation here:\")\n",
    "    if op == \"sub\":\n",
    "        print(\"x subtracted from y:\", x-y)\n",
    "    elif op == \"mul\":\n",
    "        print(\"x multiplied by y:\", x*y)\n",
    "    elif op == \"div\":\n",
    "        print(\"x divided by y:\", x/y)\n",
    "    elif op == \"mod\":\n",
    "        print(\"Remainder of x and y:\", x%y)\n",
    "    elif op == \"stop\":\n",
    "        print(\"Stopped running\")\n",
    "        break\n",
    "    else :\n",
    "        print('Wrong Input')\n"
   ]
  },
  {
   "cell_type": "code",
   "execution_count": null,
   "id": "14c6f9f7",
   "metadata": {},
   "outputs": [],
   "source": []
  }
 ],
 "metadata": {
  "kernelspec": {
   "display_name": "Python 3 (ipykernel)",
   "language": "python",
   "name": "python3"
  },
  "language_info": {
   "codemirror_mode": {
    "name": "ipython",
    "version": 3
   },
   "file_extension": ".py",
   "mimetype": "text/x-python",
   "name": "python",
   "nbconvert_exporter": "python",
   "pygments_lexer": "ipython3",
   "version": "3.9.7"
  }
 },
 "nbformat": 4,
 "nbformat_minor": 5
}
