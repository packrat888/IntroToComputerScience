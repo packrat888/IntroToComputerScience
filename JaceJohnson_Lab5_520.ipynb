{
 "cells": [
  {
   "cell_type": "code",
   "execution_count": null,
   "id": "73f7a818",
   "metadata": {},
   "outputs": [],
   "source": [
    "#Jace Johnson\n",
    "#Lab 520\n",
    "#Lab 5\n",
    "#09/29/2022"
   ]
  },
  {
   "cell_type": "code",
   "execution_count": 7,
   "id": "b3a1d8cf",
   "metadata": {},
   "outputs": [
    {
     "name": "stdout",
     "output_type": "stream",
     "text": [
      "Input a color here:red\n",
      "Your color is red!\n"
     ]
    }
   ],
   "source": [
    "#Problem 1 Write a color identification program\n",
    "x = input('Input a color here:')\n",
    "if x == 'red':\n",
    "    print('Your color is red!')\n",
    "elif x == 'blue':\n",
    "    print('Your color is blue!')\n",
    "else :\n",
    "    print('Your color is not red nor blue!')"
   ]
  },
  {
   "cell_type": "code",
   "execution_count": 11,
   "id": "1e489d24",
   "metadata": {},
   "outputs": [
    {
     "name": "stdout",
     "output_type": "stream",
     "text": [
      "Input your grade here:50\n",
      "F\n"
     ]
    }
   ],
   "source": [
    "#Problem 2 Create a grading program\n",
    "x = int(input('Input your grade here:'))\n",
    "if x > 90:\n",
    "    print('A')\n",
    "elif x > 79 and x < 90:\n",
    "    print('B')\n",
    "elif x > 69 and x < 80:\n",
    "    print('C')\n",
    "elif x > 59 and x < 70:\n",
    "    print('D')\n",
    "elif x < 60:\n",
    "    print('F')"
   ]
  },
  {
   "cell_type": "code",
   "execution_count": 16,
   "id": "164336d8",
   "metadata": {},
   "outputs": [
    {
     "name": "stdout",
     "output_type": "stream",
     "text": [
      "Enter username and password\n",
      "Enter username here:Teach\n",
      "Enter password here:PassWord1\n",
      "Access Granted\n"
     ]
    }
   ],
   "source": [
    "#Problem 3 Write a log-in program\n",
    "print(\"Enter username and password\")\n",
    "x = input('Enter username here:')\n",
    "y = input('Enter password here:')\n",
    "if x == 'adam' and y == 'mountain':\n",
    "    print('Access Granted')\n",
    "elif x == 'Teach' and y == 'PassWord1':\n",
    "    print('Access Granted')\n",
    "else :\n",
    "    print('Password is incorrect or the username is not recongnized')"
   ]
  },
  {
   "cell_type": "code",
   "execution_count": 27,
   "id": "d43ecc85",
   "metadata": {},
   "outputs": [
    {
     "name": "stdout",
     "output_type": "stream",
     "text": [
      "Input X here:7\n",
      "Input Y here:8\n",
      "Enter \"sub\" to subtract X and Y\n",
      "Enter \"mul\" to multiply X and Y\n",
      "Enter \"div\" to divide X and Y\n",
      "Enter \"mod\" for remainder of X and Y\n"
     ]
    },
    {
     "ename": "KeyboardInterrupt",
     "evalue": "Interrupted by user",
     "output_type": "error",
     "traceback": [
      "\u001b[1;31m---------------------------------------------------------------------------\u001b[0m",
      "\u001b[1;31mKeyboardInterrupt\u001b[0m                         Traceback (most recent call last)",
      "\u001b[1;32mC:\\Users\\001047~1\\AppData\\Local\\Temp/ipykernel_11592/565610021.py\u001b[0m in \u001b[0;36m<module>\u001b[1;34m\u001b[0m\n\u001b[0;32m      6\u001b[0m \u001b[0mEnter\u001b[0m \u001b[1;34m\"div\"\u001b[0m \u001b[0mto\u001b[0m \u001b[0mdivide\u001b[0m \u001b[0mX\u001b[0m \u001b[1;32mand\u001b[0m \u001b[0mY\u001b[0m\u001b[0;31m\\\u001b[0m\u001b[0mn\u001b[0m\u001b[0;31m\\\u001b[0m\u001b[1;33m\u001b[0m\u001b[1;33m\u001b[0m\u001b[0m\n\u001b[0;32m      7\u001b[0m Enter \"mod\" for remainder of X and Y')\n\u001b[1;32m----> 8\u001b[1;33m \u001b[0mop\u001b[0m \u001b[1;33m=\u001b[0m \u001b[0minput\u001b[0m\u001b[1;33m(\u001b[0m\u001b[1;34m\"Input operation here:\"\u001b[0m\u001b[1;33m)\u001b[0m\u001b[1;33m\u001b[0m\u001b[1;33m\u001b[0m\u001b[0m\n\u001b[0m\u001b[0;32m      9\u001b[0m \u001b[1;32mif\u001b[0m \u001b[0mop\u001b[0m \u001b[1;33m==\u001b[0m \u001b[1;34m\"sub\"\u001b[0m\u001b[1;33m:\u001b[0m\u001b[1;33m\u001b[0m\u001b[1;33m\u001b[0m\u001b[0m\n\u001b[0;32m     10\u001b[0m     \u001b[0mprint\u001b[0m\u001b[1;33m(\u001b[0m\u001b[1;34m\"x subtracted from y:\"\u001b[0m\u001b[1;33m,\u001b[0m \u001b[0mx\u001b[0m\u001b[1;33m-\u001b[0m\u001b[0my\u001b[0m\u001b[1;33m)\u001b[0m\u001b[1;33m\u001b[0m\u001b[1;33m\u001b[0m\u001b[0m\n",
      "\u001b[1;32mC:\\Anaconda\\lib\\site-packages\\ipykernel\\kernelbase.py\u001b[0m in \u001b[0;36mraw_input\u001b[1;34m(self, prompt)\u001b[0m\n\u001b[0;32m   1004\u001b[0m                 \u001b[1;34m\"raw_input was called, but this frontend does not support input requests.\"\u001b[0m\u001b[1;33m\u001b[0m\u001b[1;33m\u001b[0m\u001b[0m\n\u001b[0;32m   1005\u001b[0m             )\n\u001b[1;32m-> 1006\u001b[1;33m         return self._input_request(\n\u001b[0m\u001b[0;32m   1007\u001b[0m             \u001b[0mstr\u001b[0m\u001b[1;33m(\u001b[0m\u001b[0mprompt\u001b[0m\u001b[1;33m)\u001b[0m\u001b[1;33m,\u001b[0m\u001b[1;33m\u001b[0m\u001b[1;33m\u001b[0m\u001b[0m\n\u001b[0;32m   1008\u001b[0m             \u001b[0mself\u001b[0m\u001b[1;33m.\u001b[0m\u001b[0m_parent_ident\u001b[0m\u001b[1;33m[\u001b[0m\u001b[1;34m\"shell\"\u001b[0m\u001b[1;33m]\u001b[0m\u001b[1;33m,\u001b[0m\u001b[1;33m\u001b[0m\u001b[1;33m\u001b[0m\u001b[0m\n",
      "\u001b[1;32mC:\\Anaconda\\lib\\site-packages\\ipykernel\\kernelbase.py\u001b[0m in \u001b[0;36m_input_request\u001b[1;34m(self, prompt, ident, parent, password)\u001b[0m\n\u001b[0;32m   1049\u001b[0m             \u001b[1;32mexcept\u001b[0m \u001b[0mKeyboardInterrupt\u001b[0m\u001b[1;33m:\u001b[0m\u001b[1;33m\u001b[0m\u001b[1;33m\u001b[0m\u001b[0m\n\u001b[0;32m   1050\u001b[0m                 \u001b[1;31m# re-raise KeyboardInterrupt, to truncate traceback\u001b[0m\u001b[1;33m\u001b[0m\u001b[1;33m\u001b[0m\u001b[0m\n\u001b[1;32m-> 1051\u001b[1;33m                 \u001b[1;32mraise\u001b[0m \u001b[0mKeyboardInterrupt\u001b[0m\u001b[1;33m(\u001b[0m\u001b[1;34m\"Interrupted by user\"\u001b[0m\u001b[1;33m)\u001b[0m \u001b[1;32mfrom\u001b[0m \u001b[1;32mNone\u001b[0m\u001b[1;33m\u001b[0m\u001b[1;33m\u001b[0m\u001b[0m\n\u001b[0m\u001b[0;32m   1052\u001b[0m             \u001b[1;32mexcept\u001b[0m \u001b[0mException\u001b[0m\u001b[1;33m:\u001b[0m\u001b[1;33m\u001b[0m\u001b[1;33m\u001b[0m\u001b[0m\n\u001b[0;32m   1053\u001b[0m                 \u001b[0mself\u001b[0m\u001b[1;33m.\u001b[0m\u001b[0mlog\u001b[0m\u001b[1;33m.\u001b[0m\u001b[0mwarning\u001b[0m\u001b[1;33m(\u001b[0m\u001b[1;34m\"Invalid Message:\"\u001b[0m\u001b[1;33m,\u001b[0m \u001b[0mexc_info\u001b[0m\u001b[1;33m=\u001b[0m\u001b[1;32mTrue\u001b[0m\u001b[1;33m)\u001b[0m\u001b[1;33m\u001b[0m\u001b[1;33m\u001b[0m\u001b[0m\n",
      "\u001b[1;31mKeyboardInterrupt\u001b[0m: Interrupted by user"
     ]
    }
   ],
   "source": [
    "#Problem 4 Create a Calculator\n",
    "x = int(input(\"Input X here:\"))\n",
    "y = int(input(\"Input Y here:\"))\n",
    "print('Enter \"sub\" to subtract X and Y\\n\\\n",
    "Enter \"mul\" to multiply X and Y\\n\\\n",
    "Enter \"div\" to divide X and Y\\n\\\n",
    "Enter \"mod\" for remainder of X and Y')\n",
    "op = input(\"Input operation here:\")\n",
    "if op == \"sub\":\n",
    "    print(\"x subtracted from y:\", x-y)\n",
    "elif op == \"mul\":\n",
    "    print(\"x multiplied by y:\", x*y)\n",
    "elif op == \"div\":\n",
    "    print(\"x divided by y:\", x/y)\n",
    "elif op == \"mod\":\n",
    "    print(\"Remainder of x and y:\", x%y)\n",
    "\n",
    "        "
   ]
  },
  {
   "cell_type": "code",
   "execution_count": null,
   "id": "a658dee2",
   "metadata": {},
   "outputs": [],
   "source": []
  }
 ],
 "metadata": {
  "kernelspec": {
   "display_name": "Python 3 (ipykernel)",
   "language": "python",
   "name": "python3"
  },
  "language_info": {
   "codemirror_mode": {
    "name": "ipython",
    "version": 3
   },
   "file_extension": ".py",
   "mimetype": "text/x-python",
   "name": "python",
   "nbconvert_exporter": "python",
   "pygments_lexer": "ipython3",
   "version": "3.9.7"
  }
 },
 "nbformat": 4,
 "nbformat_minor": 5
}
