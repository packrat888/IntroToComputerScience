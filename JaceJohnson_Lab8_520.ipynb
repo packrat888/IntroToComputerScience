{
 "cells": [
  {
   "cell_type": "code",
   "execution_count": null,
   "id": "86ab1c07",
   "metadata": {},
   "outputs": [],
   "source": [
    "#Jace Johnson\n",
    "#Section 520\n",
    "#Lab 8\n",
    "#10/20/2022"
   ]
  },
  {
   "cell_type": "code",
   "execution_count": 3,
   "id": "dd331bb6",
   "metadata": {},
   "outputs": [
    {
     "name": "stdout",
     "output_type": "stream",
     "text": [
      "Playing video games\n"
     ]
    }
   ],
   "source": [
    "#Problem 1 Write a function named hobby that prints my favorite hobby\n",
    "def hobby():\n",
    "    print(\"Playing video games\")\n",
    "hobby()"
   ]
  },
  {
   "cell_type": "code",
   "execution_count": 23,
   "id": "b62e21a5",
   "metadata": {},
   "outputs": [
    {
     "name": "stdout",
     "output_type": "stream",
     "text": [
      "Enter your name:jace\n",
      "Hello jace! How are you doing?\n"
     ]
    }
   ],
   "source": [
    "#Problem 2 Write a greeting function that takes a name and puts in a greeting using a function\n",
    "name = input('Enter your name:')\n",
    "def greeting(nam):\n",
    "    print(\"Hello \"+  nam+\"! How are you doing?\")\n",
    "\n",
    "greeting(name)\n",
    " "
   ]
  },
  {
   "cell_type": "code",
   "execution_count": 25,
   "id": "631dfdeb",
   "metadata": {},
   "outputs": [
    {
     "name": "stdout",
     "output_type": "stream",
     "text": [
      "Enter a base:2\n",
      "Enter a power:10\n",
      "2\n",
      "4\n",
      "8\n",
      "16\n",
      "32\n",
      "64\n",
      "128\n",
      "256\n",
      "512\n",
      "1024\n",
      "The power is: 1024\n"
     ]
    }
   ],
   "source": [
    "#Problem 3 Write a function that uses a loop to set a base to an exponent and prints the numbers getting to the answer\n",
    "def PowFun(x, y):\n",
    "    ans = 1\n",
    "    for i in range(y):\n",
    "        ans = ans * x\n",
    "        print(ans)\n",
    "    return(ans)\n",
    "\n",
    "X = int(input('Enter a base:'))\n",
    "Y = int(input('Enter a power:'))\n",
    "Z = PowFun(X, Y)\n",
    "print(\"The power is:\", Z)"
   ]
  },
  {
   "cell_type": "code",
   "execution_count": 43,
   "id": "51f02389",
   "metadata": {},
   "outputs": [
    {
     "name": "stdout",
     "output_type": "stream",
     "text": [
      "Enter a radius:8.5\n",
      "The area is: 226.98006922186255\n"
     ]
    }
   ],
   "source": [
    "#Problem 4 Write a function that finds the area of a circle\n",
    "def Area(r):\n",
    "    import math\n",
    "    x = math.pi\n",
    "    A = math.pi * r**2\n",
    "    return(A)\n",
    "\n",
    "    \n",
    "    \n",
    "R = float(input('Enter a radius:'))\n",
    "z = Area(R)\n",
    "print(\"The area is:\", z)\n"
   ]
  }
 ],
 "metadata": {
  "kernelspec": {
   "display_name": "Python 3 (ipykernel)",
   "language": "python",
   "name": "python3"
  },
  "language_info": {
   "codemirror_mode": {
    "name": "ipython",
    "version": 3
   },
   "file_extension": ".py",
   "mimetype": "text/x-python",
   "name": "python",
   "nbconvert_exporter": "python",
   "pygments_lexer": "ipython3",
   "version": "3.9.7"
  }
 },
 "nbformat": 4,
 "nbformat_minor": 5
}
