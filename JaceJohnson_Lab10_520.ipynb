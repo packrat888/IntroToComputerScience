{
 "cells": [
  {
   "cell_type": "code",
   "execution_count": null,
   "id": "f17f07a4",
   "metadata": {},
   "outputs": [],
   "source": [
    "#Jace Johnson\n",
    "#Section 520\n",
    "#Lab 10\n",
    "#10/27/2022"
   ]
  },
  {
   "cell_type": "code",
   "execution_count": 2,
   "id": "c1846f84",
   "metadata": {},
   "outputs": [
    {
     "name": "stdout",
     "output_type": "stream",
     "text": [
      "Happy\n",
      "Halloween\n"
     ]
    }
   ],
   "source": [
    "#Create a program that prints individual words\n",
    "Word = 'Happy Halloween'\n",
    "print(Word[0:5])\n",
    "print(Word[6:])"
   ]
  },
  {
   "cell_type": "code",
   "execution_count": 17,
   "id": "1622e440",
   "metadata": {},
   "outputs": [
    {
     "name": "stdout",
     "output_type": "stream",
     "text": [
      "Enter a string:bob\n",
      "3\n"
     ]
    }
   ],
   "source": [
    "#Create a program that prints the length of the string\n",
    "y = input('Enter a string:')\n",
    "print(len(y))"
   ]
  },
  {
   "cell_type": "code",
   "execution_count": 16,
   "id": "f40990ef",
   "metadata": {},
   "outputs": [
    {
     "name": "stdout",
     "output_type": "stream",
     "text": [
      "Hello Jace\n",
      "Hello Bob\n",
      "Hello Dylan\n",
      "Hello Trevor\n",
      "Hello Brody\n",
      "Hello Travis\n"
     ]
    }
   ],
   "source": [
    "#Create a program that prints 5 greetings\n",
    "greet = \"Hello Jace\"\n",
    "print(greet)\n",
    "x = greet.replace('Jace', 'Bob')\n",
    "print(x)\n",
    "y = greet.replace('Jace', 'Dylan')\n",
    "print(y)\n",
    "z = greet.replace('Jace', 'Trevor')\n",
    "print(z)\n",
    "v = greet.replace('Jace', 'Brody')\n",
    "print(v)\n",
    "b = greet.replace('Jace', 'Travis')\n",
    "print(b)"
   ]
  },
  {
   "cell_type": "code",
   "execution_count": 29,
   "id": "d529ce37",
   "metadata": {},
   "outputs": [
    {
     "name": "stdout",
     "output_type": "stream",
     "text": [
      "Enter a string: bob\n",
      "b\n",
      "o\n",
      "b\n"
     ]
    }
   ],
   "source": [
    "#Create a function that takes a string and prints each character\n",
    "X = input(\"Enter a string: \")\n",
    "def character(x):\n",
    "    for i in range(0,len(x)):\n",
    "        print(x[i])\n",
    "character(X)"
   ]
  }
 ],
 "metadata": {
  "kernelspec": {
   "display_name": "Python 3 (ipykernel)",
   "language": "python",
   "name": "python3"
  },
  "language_info": {
   "codemirror_mode": {
    "name": "ipython",
    "version": 3
   },
   "file_extension": ".py",
   "mimetype": "text/x-python",
   "name": "python",
   "nbconvert_exporter": "python",
   "pygments_lexer": "ipython3",
   "version": "3.9.7"
  }
 },
 "nbformat": 4,
 "nbformat_minor": 5
}
